{
 "cells": [
  {
   "cell_type": "markdown",
   "id": "c2bed2f2",
   "metadata": {},
   "source": [
    "  # Neural Network Training for the actuarial approach"
   ]
  },
  {
   "cell_type": "code",
   "execution_count": 1,
   "id": "f9a12fa4",
   "metadata": {},
   "outputs": [],
   "source": [
    "import numpy as np\n",
    "from scipy.optimize import fsolve\n",
    "import matplotlib.pyplot as plt \n",
    "from tqdm import tqdm\n",
    "%load_ext autoreload\n",
    "%autoreload 2\n",
    "%aimport IS_misc_functions\n",
    "from IS_misc_functions import *\n",
    "from misc_functions import *\n",
    "from actuarial_training import *\n",
    "\n",
    "import tensorflow as tf\n",
    "from tensorflow import keras\n",
    "from tensorflow.keras import layers\n",
    "from tensorflow.keras import regularizers\n",
    "from sklearn.preprocessing import MinMaxScaler, StandardScaler, RobustScaler, MaxAbsScaler,normalize\n",
    "from sklearn.model_selection import train_test_split\n",
    "from sklearn.utils import shuffle\n",
    "import json\n",
    "import csv"
   ]
  },
  {
   "cell_type": "markdown",
   "id": "cb0f9fe4",
   "metadata": {},
   "source": [
    "### Define the Bounds for Training the Neural Network"
   ]
  },
  {
   "cell_type": "markdown",
   "id": "43461bd2",
   "metadata": {},
   "source": [
    "Set the range of parameters for training the neural network"
   ]
  },
  {
   "cell_type": "code",
   "execution_count": 2,
   "id": "3868ed03",
   "metadata": {},
   "outputs": [],
   "source": [
    "N_Iter = 10000 # Number of Iterations\n",
    "save_interval = 1000 # Save every... iterations in a file\n",
    "B = 1 # Batch Size\n",
    "\n",
    "# Bounds for the parameters\n",
    "ELGD_bounds = 0,0.6\n",
    "EAD_bounds = 0,1\n",
    "PD_bounds = 0,0.52\n",
    "omega_bounds = 0,1\n",
    "obligor_bounds = 10,100\n",
    "\n",
    "n_MC = 500000 # Number of Monte Carlo Samples"
   ]
  },
  {
   "cell_type": "markdown",
   "id": "133da766",
   "metadata": {},
   "source": [
    "Apply the training procedure"
   ]
  },
  {
   "cell_type": "markdown",
   "id": "8990cc02",
   "metadata": {},
   "source": [
    "Inlcude GA approx to the input"
   ]
  },
  {
   "cell_type": "code",
   "execution_count": 3,
   "id": "7bbd165e",
   "metadata": {},
   "outputs": [],
   "source": [
    "transition_matrix = pd.read_csv(\"transition_matrix_SP.csv\",delimiter = \",\")\n",
    "PDs = np.maximum(np.array(transition_matrix[\"D\"])/100,1e-8)"
   ]
  },
  {
   "cell_type": "code",
   "execution_count": 4,
   "id": "d61a34d3",
   "metadata": {},
   "outputs": [],
   "source": [
    "with open(\"probs.txt\") as tweetfile:\n",
    "    probs = json.load(tweetfile)\n",
    "probs = {float(k):float(v) for k,v in probs.items()}\n",
    "PDs =  np.maximum(np.array([float(k) for k,v in probs.items()])/100,1e-10)\n",
    "PD_distribution = np.array([float(v) for k,v in probs.items()])"
   ]
  },
  {
   "cell_type": "code",
   "execution_count": 5,
   "id": "512413d1",
   "metadata": {
    "scrolled": true
   },
   "outputs": [
    {
     "name": "stderr",
     "output_type": "stream",
     "text": [
      " 57%|█████▋    | 574/1000 [20:27:23<16:14:59, 137.32s/it]C:\\Users\\jul_ses\\Anaconda3\\envs\\tf_cpu\\lib\\site-packages\\scipy\\optimize\\_minpack_py.py:178: RuntimeWarning: The iteration is not making good progress, as measured by the \n",
      "  improvement from the last ten iterations.\n",
      "  warnings.warn(msg, RuntimeWarning)\n",
      "100%|██████████| 1000/1000 [36:33:25<00:00, 131.61s/it]  \n",
      "100%|██████████| 1000/1000 [37:36:13<00:00, 135.37s/it]  \n",
      "100%|██████████| 1000/1000 [37:43:22<00:00, 135.80s/it]  \n",
      "100%|██████████| 1000/1000 [38:03:01<00:00, 136.98s/it]  \n",
      "100%|██████████| 1000/1000 [37:28:42<00:00, 134.92s/it]  \n",
      "100%|██████████| 1000/1000 [37:10:31<00:00, 133.83s/it]  \n",
      " 83%|████████▎ | 829/1000 [31:15:22<6:26:50, 135.73s/it] \n",
      "\n",
      "KeyboardInterrupt\n",
      "\n"
     ]
    }
   ],
   "source": [
    "for iteration_save in range(6,100):\n",
    "    List_x = []\n",
    "    List_y = []\n",
    "    for iteration in tqdm(range(save_interval)):\n",
    "        try:\n",
    "\n",
    "            if (iteration % 2) == 0:\n",
    "                ELGD,EAD,PD,omega = create_sample_actuarial(ELGD_bounds,EAD_bounds,PD_bounds,omega_bounds,obligor_bounds,B,\n",
    "                                                           PDs = PDs,PD_distribution=PD_distribution,PDs_Sample = True)\n",
    "\n",
    "                ELGD[ELGD>0] = 0.1\n",
    "\n",
    "            elif (iteration % 2) == 1:\n",
    "                ELGD,EAD,PD,omega = create_sample_actuarial(ELGD_bounds,EAD_bounds,PD_bounds,omega_bounds,obligor_bounds,B,\n",
    "                                                           PDs = PDs,PD_distribution=PD_distribution,PDs_Sample = True)\n",
    "                ELGD[ELGD>0] = 0.45\n",
    "\n",
    "            Input = np.concatenate([ELGD,EAD,PD,omega],axis =1)   \n",
    "\n",
    "            GA_999 = MC_IS_actuarial(np.reshape(ELGD[0,:],(1,obligor_bounds[1])),\n",
    "                                                 np.reshape(EAD[0,:],(1,obligor_bounds[1])),\n",
    "                                                np.reshape(PD[0,:],(1,obligor_bounds[1])),\n",
    "                                                np.reshape(ELGD[0,:],(1,obligor_bounds[1])),\n",
    "                                                 q=0.999,n = n_MC)\n",
    "        except:\n",
    "            pass # doing nothing on exception\n",
    "        List_x.append(Input[0])\n",
    "        List_y.append(GA_999[0])\n",
    "\n",
    "\n",
    "\n",
    "    pd.DataFrame(List_x).to_csv(\"csv/X_\"+str(iteration_save)+\".csv\")\n",
    "    pd.DataFrame(List_y).to_csv(\"csv/y_\"+str(iteration_save)+\".csv\")"
   ]
  }
 ],
 "metadata": {
  "kernelspec": {
   "display_name": "Python 3 (ipykernel)",
   "language": "python",
   "name": "python3"
  },
  "language_info": {
   "codemirror_mode": {
    "name": "ipython",
    "version": 3
   },
   "file_extension": ".py",
   "mimetype": "text/x-python",
   "name": "python",
   "nbconvert_exporter": "python",
   "pygments_lexer": "ipython3",
   "version": "3.11.8"
  }
 },
 "nbformat": 4,
 "nbformat_minor": 5
}
