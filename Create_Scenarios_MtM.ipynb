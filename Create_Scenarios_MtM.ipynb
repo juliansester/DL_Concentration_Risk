{
 "cells": [
  {
   "cell_type": "markdown",
   "id": "e56fed1e",
   "metadata": {},
   "source": [
    "  # Neural Network Training for the MtM approach"
   ]
  },
  {
   "cell_type": "code",
   "execution_count": 21,
   "id": "f9a12fa4",
   "metadata": {},
   "outputs": [
    {
     "name": "stdout",
     "output_type": "stream",
     "text": [
      "The autoreload extension is already loaded. To reload it, use:\n",
      "  %reload_ext autoreload\n"
     ]
    }
   ],
   "source": [
    "import numpy as np\n",
    "from scipy.optimize import fsolve\n",
    "import matplotlib.pyplot as plt \n",
    "from tqdm import tqdm\n",
    "%load_ext autoreload\n",
    "%autoreload 2\n",
    "%aimport IS_misc_functions\n",
    "from IS_misc_functions import *\n",
    "from misc_functions import *\n",
    "from actuarial_training import *\n",
    "from MtM_training import *\n",
    "\n",
    "import pandas as pd\n",
    "\n",
    "import tensorflow as tf\n",
    "from tensorflow import keras\n",
    "from tensorflow.keras import layers\n",
    "from tensorflow.keras import regularizers\n",
    "from sklearn.preprocessing import MinMaxScaler, StandardScaler, RobustScaler, MaxAbsScaler,normalize\n",
    "from sklearn.model_selection import train_test_split\n",
    "from sklearn.utils import shuffle\n",
    "import json\n",
    "import csv"
   ]
  },
  {
   "cell_type": "markdown",
   "id": "43461bd2",
   "metadata": {},
   "source": [
    "Set the range of parameters for training the neural network"
   ]
  },
  {
   "cell_type": "code",
   "execution_count": 2,
   "id": "3fb3ddfa",
   "metadata": {},
   "outputs": [],
   "source": [
    "obligor_bounds = 10,100"
   ]
  },
  {
   "cell_type": "markdown",
   "id": "407dff33",
   "metadata": {},
   "source": [
    "First set parameters"
   ]
  },
  {
   "cell_type": "code",
   "execution_count": 3,
   "id": "3868ed03",
   "metadata": {},
   "outputs": [],
   "source": [
    "N_Iter = 10000 # Number of Iterations\n",
    "save_interval = 1000 # Save every... iterations in a file\n",
    "B = 1 # Batch Size\n",
    "\n",
    "\n",
    "# Number of States considered\n",
    "S =17\n",
    "n_obligors = 100\n",
    "\n",
    "# Bounds for the parameters\n",
    "ELGD_bounds = 0,0.6\n",
    "EAD_bounds = 0,1\n",
    "rho_bounds = 0.15,0.7\n",
    "c_bounds = 0,0.1\n",
    "g_bounds = 2,S\n",
    "D_bounds = 1,10\n",
    "obligor_bounds = 10,100\n",
    "\n",
    "n_MC = 500000 # Number of Monte Carlo Samples"
   ]
  },
  {
   "cell_type": "markdown",
   "id": "133da766",
   "metadata": {},
   "source": [
    "Apply the training procedure"
   ]
  },
  {
   "cell_type": "code",
   "execution_count": 4,
   "id": "543ae3e5",
   "metadata": {},
   "outputs": [],
   "source": [
    "transition_matrix = pd.read_csv(\"transition_matrix_SP.csv\",delimiter = \",\")\n",
    "PDs = np.maximum(np.array(transition_matrix[\"D\"])/100,1e-8)\n",
    "SP_dict = trans_matrix_to_dict(transition_matrix)"
   ]
  },
  {
   "cell_type": "code",
   "execution_count": 5,
   "id": "9429ebce",
   "metadata": {},
   "outputs": [],
   "source": [
    "with open(\"probs.txt\") as tweetfile:\n",
    "    probs = json.load(tweetfile)\n",
    "probs = {float(k):float(v) for k,v in probs.items()}\n",
    "PDs =  np.maximum(np.array([float(k) for k,v in probs.items()])/100,1e-10)\n",
    "PD_distribution = np.array([float(v) for k,v in probs.items()])"
   ]
  },
  {
   "cell_type": "code",
   "execution_count": 6,
   "id": "2fcccb55",
   "metadata": {},
   "outputs": [],
   "source": [
    "g_vals = np.arange(g_bounds[0],g_bounds[1])\n",
    "g_probs = np.flip(np.concatenate([[0.0001,0.0001],PD_distribution]))\n",
    "g_probs = g_probs/np.sum(g_probs)\n"
   ]
  },
  {
   "cell_type": "code",
   "execution_count": 31,
   "id": "4701d1b2-b8dc-415e-9a2e-1c4f4e565eb6",
   "metadata": {},
   "outputs": [],
   "source": [
    "# import time\n",
    "# D_bounds = 1,1\n",
    "# obligor_bounds = 99,100\n",
    "# t = time.time()\n",
    "# LGD_Vector,EAD_Vector,rho_Vector,c_vector,g_Vector,D_vector = create_sample_MtM(ELGD_bounds,EAD_bounds,rho_bounds,c_bounds,g_bounds,D_bounds,obligor_bounds,B,\n",
    "#                                    g_vals,g_probs)\n",
    "\n",
    "# LGD_Vector = LGD_Vector[0,:]\n",
    "# EAD_Vector = EAD_Vector[0,:]\n",
    "# rho_Vector = rho_Vector[0,:]\n",
    "# c_vector = c_vector[0,:]\n",
    "# g_Vector = g_Vector[0,:].astype(int)\n",
    "# D_vector = D_vector[0,:]\n",
    "\n",
    "\n",
    "# GA_GM(PD = 0, ELGD =LGD_Vector[LGD_Vector>0],\n",
    "#                                    A = EAD_Vector[EAD_Vector>0], M= D_vector[EAD_Vector>0],\n",
    "#                       q=0.999,        \n",
    "#                      r = r_nelson,\n",
    "#                      T=1,\n",
    "#                      g= np.array(g_Vector[g_Vector>0]),\n",
    "#                      trans_prob=SP_dict[\"trans_prob\"],#N times S matrix\n",
    "#                      psi = 0.4, # Market Sharpe Ratio,\n",
    "#                      rho = rho_Vector[EAD_Vector>0],\n",
    "#                      c = c_vector[EAD_Vector>0],\n",
    "#                     nu =0.25,               \n",
    "#                      S = S, # Number of States of Rating\n",
    "#                      default_only = False,\n",
    "#                       LGD_constant = False)\n",
    "# s = time.time()\n",
    "# print(s-t)"
   ]
  },
  {
   "cell_type": "code",
   "execution_count": 7,
   "id": "6e52d79e",
   "metadata": {},
   "outputs": [
    {
     "name": "stderr",
     "output_type": "stream",
     "text": [
      "100%|██████████| 1000/1000 [39:59:47<00:00, 143.99s/it]  \n",
      "100%|██████████| 1000/1000 [43:16:21<00:00, 155.78s/it]  \n"
     ]
    }
   ],
   "source": [
    "for iteration_save in range(13,15):\n",
    "    List_x = []\n",
    "    List_y = []\n",
    "    for iteration in tqdm(range(save_interval)):\n",
    "        try:\n",
    "            ELGD,EAD,rho,c,g,D = create_sample_MtM(ELGD_bounds,EAD_bounds,rho_bounds,c_bounds,g_bounds,D_bounds,obligor_bounds,B,\n",
    "                                                   g_vals,g_probs)\n",
    "            if (iteration % 2) == 0:\n",
    "                ELGD[ELGD>0] = 0.1\n",
    "            if (iteration % 2) == 1:\n",
    "                ELGD[ELGD>0] = 0.45            \n",
    "            Input = np.concatenate([ELGD,EAD,rho,c,g,D],axis =1)\n",
    "\n",
    "\n",
    "\n",
    "\n",
    "            GA_999 = MC_IS_MtM(ELGD[0,:],EAD[0,:],rho[0,:],c[0,:],g[0,:],\n",
    "                               SP_dict,D[0,:],r_nelson,\n",
    "                               q=0.999,n = n_MC)\n",
    "            List_x.append(Input[0])\n",
    "            List_y.append(GA_999)\n",
    "        except:\n",
    "            pass # doing nothing on exception         \n",
    "\n",
    "    pd.DataFrame(List_x).to_csv(\"csv/X_mtm_\"+str(iteration_save)+\".csv\")\n",
    "    pd.DataFrame(List_y).to_csv(\"csv/y_mtm_\"+str(iteration_save)+\".csv\")"
   ]
  }
 ],
 "metadata": {
  "kernelspec": {
   "display_name": "Python 3 (ipykernel)",
   "language": "python",
   "name": "python3"
  },
  "language_info": {
   "codemirror_mode": {
    "name": "ipython",
    "version": 3
   },
   "file_extension": ".py",
   "mimetype": "text/x-python",
   "name": "python",
   "nbconvert_exporter": "python",
   "pygments_lexer": "ipython3",
   "version": "3.11.8"
  }
 },
 "nbformat": 4,
 "nbformat_minor": 5
}
